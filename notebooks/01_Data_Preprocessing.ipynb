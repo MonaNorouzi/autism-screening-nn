{
 "cells": [
  {
   "cell_type": "code",
   "execution_count": 2,
   "id": "94c7f9a0",
   "metadata": {},
   "outputs": [],
   "source": [
    "import arff\n",
    "import csv\n",
    "import pandas as pd\n",
    "import numpy as np\n",
    "from sklearn.preprocessing import LabelEncoder, OneHotEncoder\n"
   ]
  },
  {
   "cell_type": "code",
   "execution_count": 3,
   "id": "341634f1",
   "metadata": {},
   "outputs": [
    {
     "name": "stdout",
     "output_type": "stream",
     "text": [
      "❌ eror : The input file at 'your_dataset.arff' was not found.\n"
     ]
    }
   ],
   "source": [
    "\n",
    "def convert_arff_to_csv(arff_path, csv_path):\n",
    "    \"\"\"\n",
    "  ARFF TO CSV\n",
    "    Converts an ARFF file to a CSV file.\n",
    "    \"\"\"\n",
    "    try:\n",
    "       \n",
    "        with open(arff_path, 'r', encoding='utf-8') as f:\n",
    "            arff_data = arff.load(f)\n",
    "\n",
    "        column_headers = [attr[0] for attr in arff_data['attributes']]\n",
    "  \n",
    "        data_rows = arff_data['data']\n",
    "\n",
    "        with open(csv_path, 'w', newline='', encoding='utf-8') as f:\n",
    "            writer = csv.writer(f)\n",
    "            writer.writerow(column_headers)\n",
    "            writer.writerows(data_rows)\n",
    "        \n",
    "        print(f\"conerted successfully. File saved at:\\n{csv_path}\")\n",
    "\n",
    "    except FileNotFoundError:\n",
    "        print(f\"❌ eror : The input file at '{arff_path}' was not found.\")\n",
    "    except Exception as e:\n",
    "        print(f\"❌eror not found: {e}\")\n",
    "\n",
    "\n",
    "# --- How to use ---\n",
    "# Replace 'your_dataset.arff' with the path to your ARFF file\n",
    "# and 'converted_dataset.csv' with the desired output CSV file name.\n",
    "# import functions\n",
    "input_arff_file = 'your_dataset.arff'\n",
    "output_csv_file = 'converted_dataset.csv'\n",
    "convert_arff_to_csv(input_arff_file, output_csv_file)"
   ]
  },
  {
   "cell_type": "code",
   "execution_count": 4,
   "id": "643e39a3",
   "metadata": {},
   "outputs": [
    {
     "name": "stdout",
     "output_type": "stream",
     "text": [
      "❌ eror : The input file at 'converted_dataset.csv' was not found.\n"
     ]
    }
   ],
   "source": [
    "\n",
    "def clean_dataframe(csv_input_path, csv_output_path):\n",
    "    \"\"\"\n",
    "   this function reads a CSV file, preprocesses it, and saves the final file.\n",
    "    Steps: \n",
    "    1. Remove rows with missing values ('?')\n",
    "    2. Remove completely duplicate columns\n",
    "    3. Remove completely duplicate rows\n",
    "    4. Save the cleaned DataFrame to a new CSV file\n",
    "    \"\"\"\n",
    "    try:\n",
    "        df = pd.read_csv(csv_input_path)\n",
    "\n",
    "        df.replace('?', np.nan, inplace=True)\n",
    "        rows_before = df.shape[0]\n",
    "        df.dropna(inplace=True)\n",
    "        print(f\"{rows_before - df.shape[0]} rows with '?' were removed.\")\n",
    "        print(\"---\")\n",
    "        cols_before = df.shape[1]\n",
    "        df = df.T.drop_duplicates().T\n",
    "        print(f\"{cols_before - df.shape[1]} columns were removed.\")\n",
    "        print(\"---\")\n",
    "        rows_before = df.shape[0]\n",
    "        df.drop_duplicates(inplace=True)\n",
    "        print(f\"{rows_before - df.shape[0]} rows were removed.\")\n",
    "        print(\"---\")\n",
    "        \n",
    "        df.to_csv(csv_output_path, index=False) \n",
    "        print(f\"✅ Cleaned file saved at:\\n{csv_output_path}\")\n",
    "\n",
    "    except FileNotFoundError:\n",
    "        print(f\"❌ eror : The input file at '{csv_input_path}' was not found.\")\n",
    "    except Exception as e:\n",
    "        print(f\"❌ eror not found: {e}\")\n",
    "\n",
    "\n",
    "#-- How to use ---\n",
    "# Replace 'converted_dataset.csv' with the path to your input CSV file\n",
    "# and 'preprocessed_dataset.csv' with the desired output CSV file name.\n",
    "# import functions\n",
    "\n",
    "\n",
    "input_file = 'converted_dataset.csv' \n",
    "output_file = 'preprocessed_dataset.csv'\n",
    "clean_dataframe(input_file, output_file)"
   ]
  },
  {
   "cell_type": "code",
   "execution_count": 5,
   "id": "fb92fab9",
   "metadata": {},
   "outputs": [
    {
     "name": "stdout",
     "output_type": "stream",
     "text": [
      " ❌ eror : The input file at 'cleaned_autism_data.csv' was not found.\n"
     ]
    }
   ],
   "source": [
    "\n",
    "\n",
    "\n",
    "def encode_categorical_features(df: pd.DataFrame) -> pd.DataFrame:\n",
    "    \"\"\"\n",
    "   this function encodes categorical features in the DataFrame.\n",
    "   - For binary categorical features (2 unique values), it uses Label Encoding.\n",
    "   - For categorical features with more than 2 unique values, it uses One-Hot Encoding.\n",
    "   The function returns a new DataFrame with the encoded features.\n",
    "    \"\"\"\n",
    " \n",
    "    processed_df = df.copy()\n",
    "    categorical_columns = processed_df.select_dtypes(include=['object']).columns.tolist()\n",
    "    \n",
    "    label_encoder = LabelEncoder()\n",
    "    onehot_encoder = OneHotEncoder(sparse_output=False, drop='first', handle_unknown='ignore')\n",
    "\n",
    "    print(\"شروع فرآیند انکودینگ...\")\n",
    "    for col in categorical_columns:\n",
    "        if processed_df[col].nunique() == 2:\n",
    "            print(f\"column '{col}' is encoded with LabelEncoder.\")\n",
    "            processed_df[col] = label_encoder.fit_transform(processed_df[col])\n",
    "        elif processed_df[col].nunique() > 2:\n",
    "            print(f\" column '{col}' is encoded with OneHotEncoder.\")\n",
    "            \n",
    "            encoded_cols_df = pd.DataFrame(\n",
    "                onehot_encoder.fit_transform(processed_df[[col]]),\n",
    "                index=processed_df.index \n",
    "            )\n",
    "         \n",
    "            new_col_names = [f\"{col}_{category}\" for category in onehot_encoder.categories_[0][1:]]\n",
    "            encoded_cols_df.columns = new_col_names\n",
    "            processed_df = pd.concat([processed_df, encoded_cols_df], axis=1)\n",
    "            processed_df.drop(col, axis=1, inplace=True)\n",
    "            \n",
    "    print(\"encoding process completed.\")\n",
    "    return processed_df\n",
    "\n",
    "\n",
    "\n",
    "\n",
    "\n",
    "\n",
    "input_csv_path = \"cleaned_autism_data.csv\"# input file path\n",
    "output_csv_path = 'encoded_output_file.csv' # output file path\n",
    "\n",
    "try:\n",
    "\n",
    "    original_data = pd.read_csv(input_csv_path )\n",
    "    print(f\"file '{input_csv_path}' read successfully.\")\n",
    "    print(\"-\" * 30)\n",
    "\n",
    "   \n",
    "    encoded_data = encode_categorical_features(original_data)\n",
    "\n",
    "    \n",
    "    encoded_data.to_csv(output_csv_path, index=False)\n",
    "    print(f\" ✅ Encoded file saved at:\\n{output_csv_path}\")\n",
    "    \n",
    "\n",
    "except FileNotFoundError:\n",
    "    print(f\" ❌ eror : The input file at '{input_csv_path}' was not found.\")\n",
    "except Exception as e:\n",
    "    print(f\" ❌ eror not found: {e}\")\n"
   ]
  }
 ],
 "metadata": {
  "kernelspec": {
   "display_name": "base",
   "language": "python",
   "name": "python3"
  },
  "language_info": {
   "codemirror_mode": {
    "name": "ipython",
    "version": 3
   },
   "file_extension": ".py",
   "mimetype": "text/x-python",
   "name": "python",
   "nbconvert_exporter": "python",
   "pygments_lexer": "ipython3",
   "version": "3.13.5"
  }
 },
 "nbformat": 4,
 "nbformat_minor": 5
}
